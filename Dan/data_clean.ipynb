{
 "cells": [
  {
   "cell_type": "code",
   "execution_count": 1,
   "metadata": {},
   "outputs": [],
   "source": [
    "import pandas as pd"
   ]
  },
  {
   "cell_type": "code",
   "execution_count": 9,
   "metadata": {},
   "outputs": [],
   "source": [
    "# Import raw data\n",
    "data = 'train'\n",
    "raw_df = pd.read_csv('../data/' + data + '.csv') "
   ]
  },
  {
   "cell_type": "code",
   "execution_count": 10,
   "metadata": {},
   "outputs": [],
   "source": [
    "# All columns that contains at least 1 NA\n",
    "col_na = ['PoolQC', 'MiscFeature', 'Alley', 'Fence', 'FireplaceQu', 'LotFrontage',\n",
    "           'GarageQual', 'GarageFinish', 'GarageYrBlt', 'GarageType', 'GarageCond',\n",
    "           'BsmtExposure', 'BsmtFinType2', 'BsmtQual', 'BsmtCond', 'BsmtFinType1',\n",
    "           'MasVnrArea', 'MasVnrType', 'Electrical']"
   ]
  },
  {
   "cell_type": "markdown",
   "metadata": {},
   "source": [
    "# Formatting"
   ]
  },
  {
   "cell_type": "markdown",
   "metadata": {},
   "source": [
    "- Continuous features remains unchanged\n",
    "- Ordinal categorical features has int labels\n",
    "- Non ordinal categorical features are dummified"
   ]
  },
  {
   "cell_type": "code",
   "execution_count": 69,
   "metadata": {},
   "outputs": [
    {
     "data": {
      "text/plain": [
       "[array(['IR1', 'IR2', 'IR3', 'Reg'], dtype=object)]"
      ]
     },
     "execution_count": 69,
     "metadata": {},
     "output_type": "execute_result"
    }
   ],
   "source": [
    "# ---------------------------- In progress -------------------------------\n",
    "\n",
    "from sklearn.preprocessing import OrdinalEncoder, LabelEncoder\n",
    "oe = OrdinalEncoder(categories='auto')\n",
    "le = LabelEncoder()\n",
    "\n",
    "labels = le.fit(raw_df['LotShape']).classes_\n",
    "\n",
    "labels\n",
    "\n",
    "oe.fit(raw_df[['LotShape']])\n",
    "oe.categories_\n",
    "\n",
    "# ---------------------------- In progress -------------------------------"
   ]
  },
  {
   "cell_type": "code",
   "execution_count": 71,
   "metadata": {},
   "outputs": [
    {
     "data": {
      "text/plain": [
       "array(['Lvl', 'Bnk', 'Low', 'HLS'], dtype=object)"
      ]
     },
     "execution_count": 71,
     "metadata": {},
     "output_type": "execute_result"
    }
   ],
   "source": [
    "raw_df['LandContour'].unique()"
   ]
  },
  {
   "cell_type": "code",
   "execution_count": 78,
   "metadata": {},
   "outputs": [],
   "source": [
    "contin = ['LotFrontage', 'LotArea', 'MasVnrArea', 'BsmtFinSF1',\n",
    "        'BsmtFinSF2', 'BsmtUnfSF', 'TotalBsmtSF', '1stFlrSF',\n",
    "        '2ndFlrSF', 'LowQualFinSF', 'GrLivArea', 'GarageArea',\n",
    "        'WoodDeckSF', 'OpenPorchSF', 'EnclosedPorch', '3SsnPorch',\n",
    "        'ScreenPorch', 'PoolArea', 'MiscVal']\n",
    "\n",
    "ord_cat = ['LotShape', 'LandContour', 'Utilities', 'Landslope', 'HouseStyle',\n",
    "           'OverallQual', 'OverallCond', 'YearBuilt', 'YearRemodAdd',\n",
    "           'ExterQual', 'ExterCond', 'BsmtQual', 'BsmtCond', 'BsmtExposure', \n",
    "           'BsmtFinType1', 'BsmtFinType2', 'HeatingQC', 'BsmtFullBath',\n",
    "           'BsmtHalfBath', 'FullBath', 'HalfBath', 'BedroomAbvGr', 'KitchenAbvGr',\n",
    "           'KitchenQual', 'TotRmsAbvGrd', 'Functional', 'Fireplaces', 'FireplaceQu',\n",
    "           'GarageYrBlt', 'GarageFinish', 'GarageCars', 'GarageQual',\n",
    "           'GarageCond', 'PoolQC', 'Fence', 'MoSold', 'YrSold']\n",
    "\n",
    "cat = ['MSSubClass', 'MSZoning', 'Street', 'Alley', 'LotConfig', 'Neighborhood',\n",
    "      'Condition1', 'Condition2', 'BldgType', 'RoofStyle', 'RoofMatl',\n",
    "      'Exterior1st', 'Exterior2nd', 'MasVnrType', 'Foundation', 'Heating', \n",
    "      'CentralAir', 'Electrical', 'GarageType', 'PavedDrive', 'MiscFeature',\n",
    "      'SaleType', 'SaleCondition']"
   ]
  },
  {
   "cell_type": "code",
   "execution_count": 40,
   "metadata": {},
   "outputs": [],
   "source": [
    "# ------------------ Working on a better solution than doing by hand -----------------------\n",
    "\n",
    "# Replace each nominal ordinal variable with corresponding value (increasing quality/condition - value)\n",
    "\n",
    "# BsmtQual : 0 - No basement to 5 - Excellent\n",
    "raw_df['BsmtQual'] = [0 if l == 'NA' else 1 if l == \"Po\" else 2 if l == \"Fa\" \\\n",
    "                          else 3 if l == \"TA\" else 4 if l == \"Gd\" else 5 for l in raw_df['BsmtQual']]\n",
    "\n",
    "# BsmtCond : 0 - No basement to 5 - Excellent\n",
    "raw_df['BsmtCond'] = [0 if l == 'NA' else 1 if l == \"Po\" else 2 if l == \"Fa\" \\\n",
    "                          else 3 if l == \"TA\" else 4 if l == \"Gd\" else 5 for l in raw_df['BsmtCond']]\n",
    "\n",
    "# BsmtExposure : 0 - No basement to 4 - Good exposure\n",
    "raw_df['BsmtExposure'] = [0 if l == 'NA' else 1 if l == \"No\" else 2 if l == \"Mn\" \\\n",
    "                              else 3 if l == \"Av\" else 4 for l in raw_df['BsmtExposure']]\n",
    "\n",
    "# BsmtFinType1\n",
    "raw_df['BsmtFinType1'] = [0 if l == 'NA' else 1 if l == \"Unf\" \\\n",
    "                              else 2 if l == \"LwQ\" else 3 if l == \"Rec\" else 4 if l == \"BLQ\" \\\n",
    "                              else 5 if l == \"ALQ\" else 6 for l in raw_df['BsmtFinType1']]\n",
    "\n",
    "# BsmtFinType2\n",
    "raw_df['BsmtFinType2'] = [0 if l == 'NA' else 1 if l == \"Unf\" \\\n",
    "                              else 2 if l == \"LwQ\" else 3 if l == \"Rec\" else 4 if l == \"BLQ\" \\\n",
    "                              else 5 if l == \"ALQ\" else 6 for l in raw_df['BsmtFinType2']]\n",
    "\n",
    "# GarageFinish\n",
    "raw_df['GarageFinish'] = [0 if l == 'NA' else 1 if l =='Unf' else 2 if l == 'RFn' \\\n",
    "                              else 3 for l in raw_df['GarageFinish']]\n",
    "\n",
    "# GarageQual\n",
    "raw_df['GarageQual'] = [0 if l == 'NA' else 1 if l == \"Po\" \\\n",
    "                            else 2 if l == \"Fa\" else 3 if l == \"TA\" else 4 if l == \"Gd\" \\\n",
    "                            else 5 for l in raw_df['GarageQual']]\n",
    "\n",
    "# GarageCond\n",
    "raw_df['GarageCond'] = [0 if l == 'NA' else 1 if l == \"Po\" \\\n",
    "                            else 2 if l == \"Fa\" else 3 if l == \"TA\" else 4 if l == \"Gd\" \\\n",
    "                            else 5 for l in raw_df['GarageCond']]\n",
    "\n",
    "# Fence (quality)\n",
    "raw_df['Fence'] = [0 if l == 'NA' else 1 if l == \"MnWw\" \\\n",
    "                       else 2 if l == \"GdWo\" else 3 if l == \"MnPrv\" else 4 for l in raw_df['Fence']]"
   ]
  },
  {
   "cell_type": "markdown",
   "metadata": {},
   "source": [
    "# Imputing NA"
   ]
  },
  {
   "cell_type": "markdown",
   "metadata": {},
   "source": [
    "# Feature selection"
   ]
  },
  {
   "cell_type": "markdown",
   "metadata": {},
   "source": [
    "## Drop of quasi empty columns"
   ]
  },
  {
   "cell_type": "code",
   "execution_count": 7,
   "metadata": {},
   "outputs": [],
   "source": [
    "raw_df = raw_df.drop(columns = ['PoolQC', 'MiscFeature', 'Alley'])"
   ]
  },
  {
   "cell_type": "markdown",
   "metadata": {},
   "source": [
    "## Drop repeated information"
   ]
  },
  {
   "cell_type": "code",
   "execution_count": 8,
   "metadata": {},
   "outputs": [
    {
     "data": {
      "text/plain": [
       "Index(['Id', 'MSSubClass', 'MSZoning', 'LotFrontage', 'LotArea', 'Street',\n",
       "       'LotShape', 'LandContour', 'Utilities', 'LotConfig', 'LandSlope',\n",
       "       'Neighborhood', 'Condition1', 'Condition2', 'BldgType', 'HouseStyle',\n",
       "       'OverallQual', 'OverallCond', 'YearBuilt', 'YearRemodAdd', 'RoofStyle',\n",
       "       'RoofMatl', 'Exterior1st', 'Exterior2nd', 'MasVnrType', 'MasVnrArea',\n",
       "       'ExterQual', 'ExterCond', 'Foundation', 'BsmtQual', 'BsmtCond',\n",
       "       'BsmtExposure', 'BsmtFinType1', 'BsmtFinSF1', 'BsmtFinType2',\n",
       "       'BsmtFinSF2', 'BsmtUnfSF', 'TotalBsmtSF', 'Heating', 'HeatingQC',\n",
       "       'CentralAir', 'Electrical', '1stFlrSF', '2ndFlrSF', 'LowQualFinSF',\n",
       "       'GrLivArea', 'BsmtFullBath', 'BsmtHalfBath', 'FullBath', 'HalfBath',\n",
       "       'BedroomAbvGr', 'KitchenAbvGr', 'KitchenQual', 'TotRmsAbvGrd',\n",
       "       'Functional', 'Fireplaces', 'FireplaceQu', 'GarageType', 'GarageYrBlt',\n",
       "       'GarageFinish', 'GarageCars', 'GarageArea', 'GarageQual', 'GarageCond',\n",
       "       'PavedDrive', 'WoodDeckSF', 'OpenPorchSF', 'EnclosedPorch', '3SsnPorch',\n",
       "       'ScreenPorch', 'PoolArea', 'Fence', 'MiscVal', 'MoSold', 'YrSold',\n",
       "       'SaleType', 'SaleCondition', 'SalePrice'],\n",
       "      dtype='object')"
      ]
     },
     "execution_count": 8,
     "metadata": {},
     "output_type": "execute_result"
    }
   ],
   "source": [
    "raw_df.columns"
   ]
  }
 ],
 "metadata": {
  "kernelspec": {
   "display_name": "Python 3",
   "language": "python",
   "name": "python3"
  },
  "language_info": {
   "codemirror_mode": {
    "name": "ipython",
    "version": 3
   },
   "file_extension": ".py",
   "mimetype": "text/x-python",
   "name": "python",
   "nbconvert_exporter": "python",
   "pygments_lexer": "ipython3",
   "version": "3.7.4"
  }
 },
 "nbformat": 4,
 "nbformat_minor": 4
}
