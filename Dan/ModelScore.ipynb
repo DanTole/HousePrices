{
 "cells": [
  {
   "cell_type": "code",
   "execution_count": 2,
   "metadata": {},
   "outputs": [],
   "source": [
    "import pandas as pd\n",
    "import numpy as np\n",
    "import os\n",
    "from datetime import datetime\n",
    "\n",
    "\n",
    "def model_score(model, X_test, y_test, prints=True, saves=True):\n",
    "    model_name = type(model).__name__\n",
    "    pred_y_test = model.predict(X_test)\n",
    "    if max(y_test) < 15:\n",
    "        pred_y_test = np.exp(pred_y_test)\n",
    "        y_test = np.exp(y_test)\n",
    "    n = len(y_test)\n",
    "    p = X_test.shape[1]\n",
    "    bias = (pred_y_test - y_test).mean()\n",
    "    maxDev = abs(pred_y_test - y_test).max()\n",
    "    meanAbsDev = abs(pred_y_test - y_test).mean()\n",
    "    MSE = ((pred_y_test - y_test) ** 2).mean()\n",
    "    MTE = ((y_test - y_test.mean()) ** 2).mean()\n",
    "    MSM = ((pred_y_test - y_test.mean()) ** 2).mean()\n",
    "    R2 = 1 - MSE / MTE\n",
    "    Adj_R2 = 1 - ((1 - R2) * (n - 1) / (n - p - 1))\n",
    "    skew = ((pred_y_test - y_test) ** 3).mean() / MSE ** 1.5\n",
    "    kurt = ((pred_y_test - y_test) ** 4).mean() / MSE ** 2 - 3\n",
    "    AIC = n * np.log(MSE) + 2 * (p + 1)\n",
    "    F = (MSM / MSE) * ((p - 1) / (n - p))\n",
    "    user_name = os.environ.get('USER')\n",
    "    dt_stamp = datetime.now().strftime('%Y-%m-%d %H-%M')\n",
    "\n",
    "    data = [model_name, bias, maxDev, meanAbsDev, MSE ** 0.5, R2, Adj_R2, skew, kurt, AIC, F, user_name, dt_stamp]\n",
    "    idx = ['Model', 'Bias', 'MaxDev', 'MeanAbsDev', 'RMSE', 'R2', 'Adj_R2', 'Skew', 'Kurt', 'AIC', 'F', 'User', 'Date']\n",
    "    results = pd.Series(data, index=idx)\n",
    "    if (prints):\n",
    "        print('-' * len(model_name))\n",
    "        print(model_name)\n",
    "        print('-' * len(model_name))\n",
    "        print(f'Bias: {bias:,.0f}')\n",
    "        print(f'Max Dev: {maxDev:,.0f}')\n",
    "        print(f'Mean Abs Dev: {meanAbsDev:,.0f}')\n",
    "        print(f'RMSE: {MSE ** 0.5:,.0f}')\n",
    "        print(f'R^2: {R2:.2%}')\n",
    "        print(f'Adj R^2: {Adj_R2:.2%}')\n",
    "        print(f'Resid skew: {skew:.2f}')\n",
    "        print(f'Resid kurt: {kurt:.2f}')\n",
    "        print(f'AIC: {AIC:,.2f}')\n",
    "        print(f'F: {F:.2f}')\n",
    "        print('-' * len(model_name))\n",
    "    if (saves):\n",
    "        results.to_csv(f'../results/{model_name[:10]} {dt_stamp}.csv')\n"
   ]
  }
 ],
 "metadata": {
  "kernelspec": {
   "display_name": "Python 3",
   "language": "python",
   "name": "python3"
  },
  "language_info": {
   "codemirror_mode": {
    "name": "ipython",
    "version": 3
   },
   "file_extension": ".py",
   "mimetype": "text/x-python",
   "name": "python",
   "nbconvert_exporter": "python",
   "pygments_lexer": "ipython3",
   "version": "3.7.4"
  }
 },
 "nbformat": 4,
 "nbformat_minor": 4
}
