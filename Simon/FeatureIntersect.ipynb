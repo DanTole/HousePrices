{
 "cells": [
  {
   "cell_type": "code",
   "execution_count": 28,
   "metadata": {},
   "outputs": [],
   "source": [
    "import pandas as pd"
   ]
  },
  {
   "cell_type": "code",
   "execution_count": 29,
   "metadata": {},
   "outputs": [],
   "source": [
    "fwd = pd.read_csv('../results/LinearRegr 2020-05-29 16-45 Features.csv')\n",
    "lasso_big = pd.read_csv('../results/Lasso 2020-05-29 14-47 Features.csv')\n",
    "lasso_sm = pd.read_csv('../results/Lasso 2020-05-31 11-32 Features.csv')\n",
    "ridge = pd.read_csv('../results/Ridge 2020-05-29 14-47 Features.csv')\n",
    "rF = pd.read_csv('../results/RandomFore 2020-05-29 14-34 Features.csv')\n",
    "gB = pd.read_csv('../results/GradientBo 2020-05-29 14-34 Features.csv')"
   ]
  },
  {
   "cell_type": "code",
   "execution_count": 37,
   "metadata": {},
   "outputs": [],
   "source": [
    "fwd.columns = ['Features', 'FwdStepVals']\n",
    "lasso_big.columns = ['Features', 'LasBVals']\n",
    "lasso_sm.columns = ['Features', 'LasSVals']\n",
    "ridge.columns = ['Features', 'RidgeVals']\n",
    "rF.columns = ['Features', 'rFVals']\n",
    "gB.columns = ['Features', 'gBVals']"
   ]
  },
  {
   "cell_type": "code",
   "execution_count": 43,
   "metadata": {},
   "outputs": [],
   "source": [
    "left = fwd.copy()\n",
    "\n",
    "left = left.merge(lasso_big, how='outer', on='Features')\n",
    "left = left.merge(lasso_sm, how='outer', on='Features')\n",
    "left = left.merge(ridge, how='outer', on='Features')\n",
    "left = left.merge(rF, how='outer', on='Features')\n",
    "left = left.merge(gB, how='outer', on='Features')\n",
    "        \n",
    "left.to_csv('../results/FeatOuterJoin.csv', index=False)"
   ]
  }
 ],
 "metadata": {
  "kernelspec": {
   "display_name": "Python 3",
   "language": "python",
   "name": "python3"
  },
  "language_info": {
   "codemirror_mode": {
    "name": "ipython",
    "version": 3
   },
   "file_extension": ".py",
   "mimetype": "text/x-python",
   "name": "python",
   "nbconvert_exporter": "python",
   "pygments_lexer": "ipython3",
   "version": "3.8.3"
  }
 },
 "nbformat": 4,
 "nbformat_minor": 4
}
