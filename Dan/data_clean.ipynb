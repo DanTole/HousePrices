{
 "cells": [
  {
   "cell_type": "code",
   "execution_count": 76,
   "metadata": {},
   "outputs": [],
   "source": [
    "import pandas as pd\n",
    "import numpy as np\n",
    "import matplotlib.pyplot as plt"
   ]
  },
  {
   "cell_type": "code",
   "execution_count": 93,
   "metadata": {},
   "outputs": [],
   "source": [
    "# Import raw data\n",
    "data = 'test'\n",
    "raw_df = pd.read_csv(f'../rawData/{data}.csv') "
   ]
  },
  {
   "cell_type": "code",
   "execution_count": 94,
   "metadata": {},
   "outputs": [],
   "source": [
    "# All columns that contains at least 1 NA\n",
    "col_na = ['PoolQC', 'MiscFeature', 'Alley', 'Fence', 'FireplaceQu', 'LotFrontage',\n",
    "           'GarageQual', 'GarageFinish', 'GarageYrBlt', 'GarageType', 'GarageCond',\n",
    "           'BsmtExposure', 'BsmtFinType2', 'BsmtQual', 'BsmtCond', 'BsmtFinType1',\n",
    "           'MasVnrArea', 'MasVnrType', 'Electrical']"
   ]
  },
  {
   "cell_type": "code",
   "execution_count": 95,
   "metadata": {},
   "outputs": [],
   "source": [
    "raw_df = raw_df.drop(columns = ['PoolQC', 'MiscFeature', 'Alley'])\n",
    "clean_df = raw_df.copy()"
   ]
  },
  {
   "cell_type": "markdown",
   "metadata": {},
   "source": [
    "# Formatting"
   ]
  },
  {
   "cell_type": "markdown",
   "metadata": {},
   "source": [
    "- Continuous features remains unchanged\n",
    "- Ordinal categorical features has int labels\n",
    "- Non ordinal categorical features are dummified"
   ]
  },
  {
   "cell_type": "code",
   "execution_count": 96,
   "metadata": {},
   "outputs": [],
   "source": [
    "contin = ['LotFrontage', 'LotArea', 'MasVnrArea', 'BsmtFinSF1',\n",
    "        'BsmtFinSF2', 'BsmtUnfSF', 'TotalBsmtSF', '1stFlrSF',\n",
    "        '2ndFlrSF', 'LowQualFinSF', 'GrLivArea', 'GarageArea',\n",
    "        'WoodDeckSF', 'OpenPorchSF', 'EnclosedPorch', '3SsnPorch',\n",
    "        'ScreenPorch', 'PoolArea', 'MiscVal']\n",
    "\n",
    "ord_cat = ['LotShape', 'LandContour', 'Utilities', 'LandSlope', 'HouseStyle',\n",
    "           'OverallQual', 'OverallCond', 'YearBuilt', 'YearRemodAdd',\n",
    "           'ExterQual', 'ExterCond', 'BsmtQual', 'BsmtCond', 'BsmtExposure', \n",
    "           'BsmtFinType1', 'BsmtFinType2', 'HeatingQC', 'BsmtFullBath',\n",
    "           'BsmtHalfBath', 'FullBath', 'HalfBath', 'BedroomAbvGr', 'KitchenAbvGr',\n",
    "           'KitchenQual', 'TotRmsAbvGrd', 'Functional', 'Fireplaces', 'FireplaceQu',\n",
    "           'GarageYrBlt', 'GarageFinish', 'GarageCars', 'GarageQual',\n",
    "           'GarageCond', 'Fence', 'MoSold', 'YrSold']\n",
    "\n",
    "cat = ['MSSubClass', 'MSZoning', 'Street', 'LotConfig', 'Neighborhood',\n",
    "      'Condition1', 'Condition2', 'BldgType', 'RoofStyle', 'RoofMatl',\n",
    "      'Exterior1st', 'Exterior2nd', 'MasVnrType', 'Foundation', 'Heating', \n",
    "      'CentralAir', 'Electrical', 'GarageType', 'PavedDrive',\n",
    "      'SaleType', 'SaleCondition']"
   ]
  },
  {
   "cell_type": "markdown",
   "metadata": {},
   "source": [
    "## Ordinal categorical"
   ]
  },
  {
   "cell_type": "code",
   "execution_count": 97,
   "metadata": {},
   "outputs": [],
   "source": [
    "mapping1 = {np.nan:0, 'Po':1, 'Fa':2, 'TA':3, 'Gd':4, 'Ex':5}\n",
    "mapping2 = {np.nan:0, 'No':1, 'Mn':2, 'Av':3, 'Gd':4}\n",
    "mapping3 = {np.nan:0, 'IR3':1, 'IR2':2, 'IR1':3, 'Reg':4}\n",
    "mapping4 = {np.nan:0, 'Lvl':1, 'Bnk':2, 'HLS':3, 'Low':4}\n",
    "mapping5 = {np.nan:0, 'ELO':1, 'NoSeWa':2, 'NoSewr':3, 'AllPub':4}\n",
    "mapping6 = {'Gtl':1, 'Mod':2, 'Sev':3}\n",
    "mapping7 = {np.nan:0, '1Story':1, '1.5Unf':2, '1.5Fin':3, '2Story':4, '2.5Unf':5, '2.5Fin':6,\n",
    "           'SFoyer':7, 'SLvl':8}\n",
    "mapping8 = {np.nan:0, 'Unf':1, 'LwQ':2, 'Rec':3, 'BLQ':4, 'ALQ':5, 'GLQ':6}\n",
    "mapping9 = {np.nan:0, 'Typ':1, 'Min1':2, 'Min2':3, 'Mod':4, 'Maj1':5, 'Maj2':6,\n",
    "            'Sev':7, 'Sal':8}\n",
    "mapping10 = {np.nan:0, 'Unf':1, 'RFn':2, 'Fin':3}\n",
    "mapping11 = {np.nan:0, 'MnWw':1, 'GdWo':2, 'MnPrv':3, 'GdPrv':4}"
   ]
  },
  {
   "cell_type": "code",
   "execution_count": 98,
   "metadata": {},
   "outputs": [],
   "source": [
    "clean_df['LotShape'] = [mapping3[val] for val in raw_df['LotShape']]\n",
    "clean_df['LandContour'] = [mapping4[val] for val in raw_df['LandContour']]\n",
    "clean_df['Utilities'] = [mapping5[val] for val in raw_df['Utilities']]\n",
    "clean_df['BsmtExposure'] = [mapping2[val] for val in raw_df['BsmtExposure']]\n",
    "clean_df['Functional'] = [mapping9[val] for val in raw_df['Functional']]\n",
    "clean_df['GarageFinish'] = [mapping10[val] for val in raw_df['GarageFinish']]\n",
    "clean_df['Fence'] = [mapping11[val] for val in raw_df['Fence']]\n",
    "clean_df['LandSlope'] = [mapping6[val] for val in raw_df['LandSlope']]\n",
    "clean_df['HouseStyle'] = [mapping7[val] for val in raw_df['HouseStyle']]\n",
    "\n",
    "tmpCol = ['ExterQual', 'BsmtQual', 'BsmtCond', 'ExterCond', 'BsmtQual', 'BsmtCond',\n",
    "         'HeatingQC', 'KitchenQual', 'FireplaceQu', 'GarageQual', 'GarageCond']\n",
    "for col in tmpCol :\n",
    "    try:\n",
    "        clean_df[col] = [mapping1[val] for val in raw_df[col]]\n",
    "    except:\n",
    "        print(col)\n",
    "\n",
    "tmpCol = ['BsmtFinType1', 'BsmtFinType2']\n",
    "for col in tmpCol :\n",
    "    clean_df[col] = [mapping8[val] for val in raw_df[col]]"
   ]
  },
  {
   "cell_type": "code",
   "execution_count": 101,
   "metadata": {},
   "outputs": [],
   "source": [
    "clean_df.to_csv(f'./{data}_NotDum.csv')"
   ]
  },
  {
   "cell_type": "markdown",
   "metadata": {},
   "source": [
    "## Non ordinal categorical"
   ]
  },
  {
   "cell_type": "code",
   "execution_count": 92,
   "metadata": {},
   "outputs": [],
   "source": [
    "# Dummification\n",
    "for col in cat :\n",
    "    tmp_dum = pd.get_dummies(clean_df[col])\n",
    "    tmp_dum.columns = [f'{col}.{lvl}' for lvl in tmp_dum.columns]\n",
    "    clean_df = pd.concat([clean_df.drop(columns = col), tmp_dum], sort = False, axis = 1)"
   ]
  },
  {
   "cell_type": "markdown",
   "metadata": {},
   "source": [
    "# Imputing NA"
   ]
  },
  {
   "cell_type": "markdown",
   "metadata": {},
   "source": [
    "## Continuous features"
   ]
  },
  {
   "cell_type": "code",
   "execution_count": 99,
   "metadata": {},
   "outputs": [],
   "source": [
    "# Only LotFrontage has missing value\n",
    "\n",
    "# dict neighborhood : median(LotFrontage)\n",
    "dict_neigh = raw_df.groupby(by = 'Neighborhood').agg({'LotFrontage':'median'}).to_dict()\n",
    "\n",
    "clean_df.loc[clean_df['LotFrontage'].isna(), 'LotFrontage'] = list(map(lambda n : dict_neigh['LotFrontage'][n], \n",
    "                                                                        raw_df.loc[raw_df['LotFrontage'].isna()]['Neighborhood']))"
   ]
  },
  {
   "cell_type": "markdown",
   "metadata": {},
   "source": [
    "## NA for GarageYrBlt and MasVnrArea"
   ]
  },
  {
   "cell_type": "code",
   "execution_count": 100,
   "metadata": {},
   "outputs": [],
   "source": [
    "# Imputing year built if garage year built is NA\n",
    "clean_df.loc[clean_df['GarageYrBlt'].isna(), 'GarageYrBlt'] = clean_df.loc[clean_df['GarageYrBlt'].isna()]['YearBuilt']\n",
    "clean_df.loc[clean_df['MasVnrArea'].isna(), 'MasVnrArea'] = 0"
   ]
  },
  {
   "cell_type": "markdown",
   "metadata": {},
   "source": [
    "# Feature selection"
   ]
  },
  {
   "cell_type": "markdown",
   "metadata": {},
   "source": [
    "## Feature selection with lasso"
   ]
  },
  {
   "cell_type": "markdown",
   "metadata": {},
   "source": [
    "- Lasso with log price : most of the features are vanishing near alpha = 0\n",
    "- Lasso with price per square foot : same behavior\n",
    "- Lasso with SalePrice : seem much more usable for selecting features."
   ]
  },
  {
   "cell_type": "code",
   "execution_count": 316,
   "metadata": {},
   "outputs": [
    {
     "name": "stderr",
     "output_type": "stream",
     "text": [
      "/home/dantole/anaconda3/lib/python3.7/site-packages/sklearn/linear_model/coordinate_descent.py:475: ConvergenceWarning: Objective did not converge. You might want to increase the number of iterations. Duality gap: 371355551736.9032, tolerance: 920791133.4609975\n",
      "  positive)\n",
      "/home/dantole/anaconda3/lib/python3.7/site-packages/sklearn/linear_model/coordinate_descent.py:475: ConvergenceWarning: Objective did not converge. You might want to increase the number of iterations. Duality gap: 2718026597.3171387, tolerance: 920791133.4609975\n",
      "  positive)\n",
      "/home/dantole/anaconda3/lib/python3.7/site-packages/sklearn/linear_model/coordinate_descent.py:475: ConvergenceWarning: Objective did not converge. You might want to increase the number of iterations. Duality gap: 112362378856.39404, tolerance: 920791133.4609975\n",
      "  positive)\n",
      "/home/dantole/anaconda3/lib/python3.7/site-packages/sklearn/linear_model/coordinate_descent.py:475: ConvergenceWarning: Objective did not converge. You might want to increase the number of iterations. Duality gap: 49862157580.893555, tolerance: 920791133.4609975\n",
      "  positive)\n"
     ]
    }
   ],
   "source": [
    "from sklearn.linear_model import Lasso\n",
    "\n",
    "X, y = clean_df.loc[:, clean_df.columns != 'SalePrice'], clean_df['SalePrice']\n",
    "\n",
    "y_log = np.log(y) # log price\n",
    "y_PxSqF = y/X['GrLivArea'] # price per square foot\n",
    "\n",
    "lasso = Lasso(max_iter=1000)\n",
    "\n",
    "coeffs = []\n",
    "intercepts = []\n",
    "\n",
    "alpha_range = np.linspace(1e-3, 1000,100)\n",
    "\n",
    "for alpha in alpha_range:\n",
    "    lasso.set_params(alpha=alpha)\n",
    "    lasso.fit(X, y)\n",
    "    coeffs.append(lasso.coef_)\n",
    "    intercepts.append(lasso.intercept_)"
   ]
  },
  {
   "cell_type": "code",
   "execution_count": 317,
   "metadata": {},
   "outputs": [
    {
     "data": {
      "text/plain": [
       "Text(0.5, 1.0, 'Change of Lasso Intercept Varying Alpha')"
      ]
     },
     "execution_count": 317,
     "metadata": {},
     "output_type": "execute_result"
    },
    {
     "data": {
      "image/png": "[encoded data removed]",
      "text/plain": [
       "<Figure size 432x288 with 1 Axes>"
      ]
     },
     "metadata": {
      "needs_background": "light"
     },
     "output_type": "display_data"
    }
   ],
   "source": [
    "plt.plot(alpha_range, intercepts)\n",
    "plt.title('Change of Lasso Intercept Varying Alpha')"
   ]
  },
  {
   "cell_type": "code",
   "execution_count": 318,
   "metadata": {},
   "outputs": [
    {
     "data": {
      "text/plain": [
       "Text(0.5, 1.0, 'Change of Lasso Slopes Varying Alpha')"
      ]
     },
     "execution_count": 318,
     "metadata": {},
     "output_type": "execute_result"
    },
    {
     "data": {
      "image/png": "[encoded data removed]",
      "text/plain": [
       "<Figure size 432x288 with 1 Axes>"
      ]
     },
     "metadata": {
      "needs_background": "light"
     },
     "output_type": "display_data"
    }
   ],
   "source": [
    "coeffs = pd.DataFrame(np.array(coeffs), columns=X.columns)\n",
    "\n",
    "for name in coeffs.columns:\n",
    "    plt.plot(alpha_range, coeffs[name], label=name)\n",
    "\n",
    "plt.axis(xmin = 0, xmax = 10)\n",
    "# plt.legend(loc=1)\n",
    "plt.title('Change of Lasso Slopes Varying Alpha')"
   ]
  },
  {
   "cell_type": "code",
   "execution_count": 319,
   "metadata": {},
   "outputs": [
    {
     "data": {
      "text/plain": [
       "OverallQual             13049.492437\n",
       "BldgType.1Fam           10151.676279\n",
       "Neighborhood.NridgHt     7409.836829\n",
       "ExterQual                7398.492339\n",
       "KitchenQual              7256.516363\n",
       "BsmtExposure             5793.650494\n",
       "Condition1.Norm          4294.526427\n",
       "MasVnrType.BrkFace       3146.308902\n",
       "OverallCond              3100.980890\n",
       "SaleType.New             2816.945393\n",
       "BsmtQual                 2813.019488\n",
       "Functional               2807.616791\n",
       "HouseStyle               2698.338912\n",
       "FireplaceQu              1910.212665\n",
       "BedroomAbvGr             1822.446894\n",
       "GarageCond               1446.970769\n",
       "TotRmsAbvGrd             1286.171040\n",
       "GarageCars               1125.168578\n",
       "BsmtFinType1             1071.977207\n",
       "HeatingQC                 646.942814\n",
       "YearBuilt                 310.159815\n",
       "YearRemodAdd               98.735715\n",
       "GarageYrBlt                81.280300\n",
       "LotFrontage                56.310455\n",
       "ScreenPorch                53.394762\n",
       "1stFlrSF                   52.710271\n",
       "2ndFlrSF                   44.969597\n",
       "GarageArea                 33.145765\n",
       "MasVnrArea                 32.588848\n",
       "3SsnPorch                  31.467871\n",
       "LowQualFinSF               30.562803\n",
       "PoolArea                   27.510174\n",
       "WoodDeckSF                 21.592744\n",
       "BsmtFinSF1                  7.727049\n",
       "EnclosedPorch               7.383499\n",
       "GrLivArea                   7.160664\n",
       "BsmtUnfSF                   3.493097\n",
       "OpenPorchSF                 2.138294\n",
       "BsmtFinSF2                  1.285628\n",
       "LotArea                     0.417236\n",
       "MiscVal                     0.121012\n",
       "LotConfig.Inside            0.000000\n",
       "Neighborhood.Gilbert        0.000000\n",
       "Neighborhood.Edwards        0.000000\n",
       "Neighborhood.Crawfor        0.000000\n",
       "Street.Pave                 0.000000\n",
       "Alley.Grvl                  0.000000\n",
       "Alley.Pave                  0.000000\n",
       "LotConfig.Corner            0.000000\n",
       "Neighborhood.CollgCr        0.000000\n",
       "Name: 99, dtype: float64"
      ]
     },
     "execution_count": 319,
     "metadata": {},
     "output_type": "execute_result"
    }
   ],
   "source": [
    "np.abs(coeffs).iloc[-1,].sort_values(ascending=False).head(50)"
   ]
  },
  {
   "cell_type": "markdown",
   "metadata": {},
   "source": [
    "## Drop repeated information"
   ]
  },
  {
   "cell_type": "code",
   "execution_count": 24,
   "metadata": {},
   "outputs": [
    {
     "data": {
      "text/plain": [
       "Index(['Id', 'MSSubClass', 'MSZoning', 'LotFrontage', 'LotArea', 'Street',\n",
       "       'Alley', 'LotShape', 'LandContour', 'Utilities', 'LotConfig',\n",
       "       'LandSlope', 'Neighborhood', 'Condition1', 'Condition2', 'BldgType',\n",
       "       'HouseStyle', 'OverallQual', 'OverallCond', 'YearBuilt', 'YearRemodAdd',\n",
       "       'RoofStyle', 'RoofMatl', 'Exterior1st', 'Exterior2nd', 'MasVnrType',\n",
       "       'MasVnrArea', 'ExterQual', 'ExterCond', 'Foundation', 'BsmtQual',\n",
       "       'BsmtCond', 'BsmtExposure', 'BsmtFinType1', 'BsmtFinSF1',\n",
       "       'BsmtFinType2', 'BsmtFinSF2', 'BsmtUnfSF', 'TotalBsmtSF', 'Heating',\n",
       "       'HeatingQC', 'CentralAir', 'Electrical', '1stFlrSF', '2ndFlrSF',\n",
       "       'LowQualFinSF', 'GrLivArea', 'BsmtFullBath', 'BsmtHalfBath', 'FullBath',\n",
       "       'HalfBath', 'BedroomAbvGr', 'KitchenAbvGr', 'KitchenQual',\n",
       "       'TotRmsAbvGrd', 'Functional', 'Fireplaces', 'FireplaceQu', 'GarageType',\n",
       "       'GarageYrBlt', 'GarageFinish', 'GarageCars', 'GarageArea', 'GarageQual',\n",
       "       'GarageCond', 'PavedDrive', 'WoodDeckSF', 'OpenPorchSF',\n",
       "       'EnclosedPorch', '3SsnPorch', 'ScreenPorch', 'PoolArea', 'PoolQC',\n",
       "       'Fence', 'MiscFeature', 'MiscVal', 'MoSold', 'YrSold', 'SaleType',\n",
       "       'SaleCondition', 'SalePrice'],\n",
       "      dtype='object')"
      ]
     },
     "execution_count": 24,
     "metadata": {},
     "output_type": "execute_result"
    }
   ],
   "source": [
    "raw_df.columns"
   ]
  },
  {
   "cell_type": "markdown",
   "metadata": {},
   "source": [
    "# Pushing clean data"
   ]
  },
  {
   "cell_type": "code",
   "execution_count": 25,
   "metadata": {},
   "outputs": [],
   "source": [
    "clean_df.to_csv(f'./{data}_cleaned.csv', index=False)"
   ]
  },
  {
   "cell_type": "code",
   "execution_count": null,
   "metadata": {},
   "outputs": [],
   "source": []
  }
 ],
 "metadata": {
  "kernelspec": {
   "display_name": "Python 3",
   "language": "python",
   "name": "python3"
  },
  "language_info": {
   "codemirror_mode": {
    "name": "ipython",
    "version": 3
   },
   "file_extension": ".py",
   "mimetype": "text/x-python",
   "name": "python",
   "nbconvert_exporter": "python",
   "pygments_lexer": "ipython3",
   "version": "3.7.4"
  }
 },
 "nbformat": 4,
 "nbformat_minor": 4
}
