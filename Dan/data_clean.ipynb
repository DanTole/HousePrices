{
 "cells": [
  {
   "cell_type": "code",
   "execution_count": 305,
   "metadata": {},
   "outputs": [],
   "source": [
    "import pandas as pd\n",
    "import numpy as np"
   ]
  },
  {
   "cell_type": "code",
   "execution_count": 359,
   "metadata": {},
   "outputs": [],
   "source": [
    "# Import raw data\n",
    "data = 'train'\n",
    "raw_df = pd.read_csv(f'../data/{data}.csv') \n",
    "clean_df = raw_df.copy()"
   ]
  },
  {
   "cell_type": "code",
   "execution_count": 360,
   "metadata": {},
   "outputs": [],
   "source": [
    "# All columns that contains at least 1 NA\n",
    "col_na = ['PoolQC', 'MiscFeature', 'Alley', 'Fence', 'FireplaceQu', 'LotFrontage',\n",
    "           'GarageQual', 'GarageFinish', 'GarageYrBlt', 'GarageType', 'GarageCond',\n",
    "           'BsmtExposure', 'BsmtFinType2', 'BsmtQual', 'BsmtCond', 'BsmtFinType1',\n",
    "           'MasVnrArea', 'MasVnrType', 'Electrical']"
   ]
  },
  {
   "cell_type": "markdown",
   "metadata": {},
   "source": [
    "# Formatting"
   ]
  },
  {
   "cell_type": "markdown",
   "metadata": {},
   "source": [
    "- Continuous features remains unchanged\n",
    "- Ordinal categorical features has int labels\n",
    "- Non ordinal categorical features are dummified"
   ]
  },
  {
   "cell_type": "code",
   "execution_count": 361,
   "metadata": {},
   "outputs": [],
   "source": [
    "contin = ['LotFrontage', 'LotArea', 'MasVnrArea', 'BsmtFinSF1',\n",
    "        'BsmtFinSF2', 'BsmtUnfSF', 'TotalBsmtSF', '1stFlrSF',\n",
    "        '2ndFlrSF', 'LowQualFinSF', 'GrLivArea', 'GarageArea',\n",
    "        'WoodDeckSF', 'OpenPorchSF', 'EnclosedPorch', '3SsnPorch',\n",
    "        'ScreenPorch', 'PoolArea', 'MiscVal']\n",
    "\n",
    "ord_cat = ['LotShape', 'LandContour', 'Utilities', 'LandSlope', 'HouseStyle',\n",
    "           'OverallQual', 'OverallCond', 'YearBuilt', 'YearRemodAdd',\n",
    "           'ExterQual', 'ExterCond', 'BsmtQual', 'BsmtCond', 'BsmtExposure', \n",
    "           'BsmtFinType1', 'BsmtFinType2', 'HeatingQC', 'BsmtFullBath',\n",
    "           'BsmtHalfBath', 'FullBath', 'HalfBath', 'BedroomAbvGr', 'KitchenAbvGr',\n",
    "           'KitchenQual', 'TotRmsAbvGrd', 'Functional', 'Fireplaces', 'FireplaceQu',\n",
    "           'GarageYrBlt', 'GarageFinish', 'GarageCars', 'GarageQual',\n",
    "           'GarageCond', 'PoolQC', 'Fence', 'MoSold', 'YrSold']\n",
    "\n",
    "cat = ['MSSubClass', 'MSZoning', 'Street', 'Alley', 'LotConfig', 'Neighborhood',\n",
    "      'Condition1', 'Condition2', 'BldgType', 'RoofStyle', 'RoofMatl',\n",
    "      'Exterior1st', 'Exterior2nd', 'MasVnrType', 'Foundation', 'Heating', \n",
    "      'CentralAir', 'Electrical', 'GarageType', 'PavedDrive', 'MiscFeature',\n",
    "      'SaleType', 'SaleCondition']"
   ]
  },
  {
   "cell_type": "markdown",
   "metadata": {},
   "source": [
    "## Ordinal categorical"
   ]
  },
  {
   "cell_type": "code",
   "execution_count": 362,
   "metadata": {},
   "outputs": [],
   "source": [
    "mapping1 = {np.nan:-1, 'Po':1, 'Fa':2, 'TA':3, 'Gd':4, 'Ex':5}\n",
    "mapping2 = {np.nan:-1, 'No':1, 'Mn':2, 'Av':3, 'Gd':4}\n",
    "mapping3 = {np.nan:-1, 'IR3':1, 'IR2':2, 'IR1':3, 'Reg':4}\n",
    "mapping4 = {np.nan:-1, 'Lvl':1, 'Bnk':2, 'HLS':3, 'Low':4}\n",
    "mapping5 = {np.nan:-1, 'ELO':1, 'NoSeWa':2, 'NoSewr':3, 'AllPub':4}\n",
    "mapping6 = {'Gtl':1, 'Mod':2, 'Sev':3}\n",
    "mapping7 = {np.nan:-1, '1Story':1, '1.5Unf':2, '1.5Fin':3, '2Story':4, '2.5Unf':5, '2.5Fin':6,\n",
    "           'SFoyer':7, 'SLvl':8}\n",
    "mapping8 = {np.nan:-1, 'Unf':1, 'LwQ':2, 'Rec':3, 'BLQ':4, 'ALQ':5, 'GLQ':6}\n",
    "mapping9 = {np.nan:-1, 'Typ':0, 'Min1':1, 'Min2':2, 'Mod':3, 'Maj1':4, 'Maj2':5,\n",
    "            'Sev':6, 'Sal':7}\n",
    "mapping10 = {np.nan:-1, 'Unf':1, 'RFn':2, 'Fin':3}\n",
    "mapping11 = {np.nan:-1, 'MnWw':1, 'GdWo':2, 'MnPrv':3, 'GdPrv':4}"
   ]
  },
  {
   "cell_type": "code",
   "execution_count": 363,
   "metadata": {},
   "outputs": [],
   "source": [
    "clean_df['LotShape'] = [mapping3[val] for val in raw_df['LotShape']]\n",
    "clean_df['LandContour'] = [mapping4[val] for val in raw_df['LandContour']]\n",
    "clean_df['Utilities'] = [mapping5[val] for val in raw_df['Utilities']]\n",
    "clean_df['BsmtExposure'] = [mapping2[val] for val in raw_df['BsmtExposure']]\n",
    "clean_df['Functional'] = [mapping9[val] for val in raw_df['Functional']]\n",
    "clean_df['GarageFinish'] = [mapping10[val] for val in raw_df['GarageFinish']]\n",
    "clean_df['Fence'] = [mapping11[val] for val in raw_df['Fence']]\n",
    "clean_df['LandSlope'] = [mapping6[val] for val in raw_df['LandSlope']]\n",
    "clean_df['HouseStyle'] = [mapping7[val] for val in raw_df['HouseStyle']]\n",
    "\n",
    "tmpCol = ['ExterQual', 'BsmtQual', 'BsmtCond', 'ExterCond', 'BsmtQual', 'BsmtCond',\n",
    "         'HeatingQC', 'KitchenQual', 'FireplaceQu', 'GarageQual', 'GarageCond',\n",
    "         'PoolQC']\n",
    "for col in tmpCol :\n",
    "    try:\n",
    "        clean_df[col] = [mapping1[val] for val in raw_df[col]]\n",
    "    except:\n",
    "        print(col)\n",
    "\n",
    "tmpCol = ['BsmtFinType1', 'BsmtFinType2']\n",
    "for col in tmpCol :\n",
    "    clean_df[col] = [mapping8[val] for val in raw_df[col]]"
   ]
  },
  {
   "cell_type": "markdown",
   "metadata": {},
   "source": [
    "## Non ordinal categorical"
   ]
  },
  {
   "cell_type": "code",
   "execution_count": 364,
   "metadata": {},
   "outputs": [],
   "source": [
    "# Dummification\n",
    "for col in cat :\n",
    "    tmp_dum = pd.get_dummies(clean_df[col])\n",
    "    tmp_dum.columns = [f'{col}.{lvl}' for lvl in tmp_dum.columns]\n",
    "    clean_df = pd.concat([clean_df.drop(columns = col), tmp_dum], sort = False, axis = 1)"
   ]
  },
  {
   "cell_type": "markdown",
   "metadata": {},
   "source": [
    "# Imputing NA"
   ]
  },
  {
   "cell_type": "markdown",
   "metadata": {},
   "source": [
    "## Continuous features"
   ]
  },
  {
   "cell_type": "code",
   "execution_count": 366,
   "metadata": {},
   "outputs": [],
   "source": [
    "# Only LotFrontage has missing value\n",
    "\n",
    "# dict neighborhood : median(LotFrontage)\n",
    "dict_neigh = raw_df.groupby(by = 'Neighborhood').agg({'LotFrontage':'median'}).to_dict()\n",
    "\n",
    "clean_df.loc[clean_df['LotFrontage'].isna(),  'LotFrontage'] = list(map(lambda n : dict_neigh['LotFrontage'][n], \n",
    "                                                                        raw_df.loc[raw_df['LotFrontage'].isna()]['Neighborhood']))"
   ]
  },
  {
   "cell_type": "markdown",
   "metadata": {},
   "source": [
    "# Feature selection"
   ]
  },
  {
   "cell_type": "markdown",
   "metadata": {},
   "source": [
    "## Drop of quasi empty columns"
   ]
  },
  {
   "cell_type": "code",
   "execution_count": 326,
   "metadata": {},
   "outputs": [],
   "source": [
    "raw_df = raw_df.drop(columns = ['PoolQC', 'MiscFeature', 'Alley'])"
   ]
  },
  {
   "cell_type": "markdown",
   "metadata": {},
   "source": [
    "## Drop repeated information"
   ]
  },
  {
   "cell_type": "code",
   "execution_count": 369,
   "metadata": {},
   "outputs": [
    {
     "data": {
      "text/plain": [
       "Index(['Id', 'MSSubClass', 'MSZoning', 'LotFrontage', 'LotArea', 'Street',\n",
       "       'Alley', 'LotShape', 'LandContour', 'Utilities', 'LotConfig',\n",
       "       'LandSlope', 'Neighborhood', 'Condition1', 'Condition2', 'BldgType',\n",
       "       'HouseStyle', 'OverallQual', 'OverallCond', 'YearBuilt', 'YearRemodAdd',\n",
       "       'RoofStyle', 'RoofMatl', 'Exterior1st', 'Exterior2nd', 'MasVnrType',\n",
       "       'MasVnrArea', 'ExterQual', 'ExterCond', 'Foundation', 'BsmtQual',\n",
       "       'BsmtCond', 'BsmtExposure', 'BsmtFinType1', 'BsmtFinSF1',\n",
       "       'BsmtFinType2', 'BsmtFinSF2', 'BsmtUnfSF', 'TotalBsmtSF', 'Heating',\n",
       "       'HeatingQC', 'CentralAir', 'Electrical', '1stFlrSF', '2ndFlrSF',\n",
       "       'LowQualFinSF', 'GrLivArea', 'BsmtFullBath', 'BsmtHalfBath', 'FullBath',\n",
       "       'HalfBath', 'BedroomAbvGr', 'KitchenAbvGr', 'KitchenQual',\n",
       "       'TotRmsAbvGrd', 'Functional', 'Fireplaces', 'FireplaceQu', 'GarageType',\n",
       "       'GarageYrBlt', 'GarageFinish', 'GarageCars', 'GarageArea', 'GarageQual',\n",
       "       'GarageCond', 'PavedDrive', 'WoodDeckSF', 'OpenPorchSF',\n",
       "       'EnclosedPorch', '3SsnPorch', 'ScreenPorch', 'PoolArea', 'PoolQC',\n",
       "       'Fence', 'MiscFeature', 'MiscVal', 'MoSold', 'YrSold', 'SaleType',\n",
       "       'SaleCondition', 'SalePrice'],\n",
       "      dtype='object')"
      ]
     },
     "execution_count": 369,
     "metadata": {},
     "output_type": "execute_result"
    }
   ],
   "source": [
    "raw_df.columns"
   ]
  },
  {
   "cell_type": "markdown",
   "metadata": {},
   "source": [
    "# Pushing clean data"
   ]
  },
  {
   "cell_type": "code",
   "execution_count": 370,
   "metadata": {},
   "outputs": [],
   "source": [
    "clean_df.to_csv(f'./{data}_cleaned.csv', index=False)"
   ]
  }
 ],
 "metadata": {
  "kernelspec": {
   "display_name": "Python 3",
   "language": "python",
   "name": "python3"
  },
  "language_info": {
   "codemirror_mode": {
    "name": "ipython",
    "version": 3
   },
   "file_extension": ".py",
   "mimetype": "text/x-python",
   "name": "python",
   "nbconvert_exporter": "python",
   "pygments_lexer": "ipython3",
   "version": "3.7.4"
  }
 },
 "nbformat": 4,
 "nbformat_minor": 4
}
