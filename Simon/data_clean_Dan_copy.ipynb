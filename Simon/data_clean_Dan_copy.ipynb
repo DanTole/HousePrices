{
 "cells": [
  {
   "cell_type": "code",
   "execution_count": 65,
   "metadata": {},
   "outputs": [],
   "source": [
    "import pandas as pd\n",
    "import numpy as np"
   ]
  },
  {
   "cell_type": "code",
   "execution_count": 66,
   "metadata": {},
   "outputs": [],
   "source": [
    "# Import raw data\n",
    "data = 'test'\n",
    "raw_df = pd.read_csv(f'../rawData/{data}.csv') \n",
    "clean_df = raw_df.copy()"
   ]
  },
  {
   "cell_type": "code",
   "execution_count": 67,
   "metadata": {},
   "outputs": [],
   "source": [
    "# Prepare to map ordinals\n",
    "mapping1 = {np.nan:0, 'Po':1, 'Fa':2, 'TA':3, 'Gd':4, 'Ex':5}\n",
    "mapping2 = {np.nan:0, 'No':1, 'Mn':2, 'Av':3, 'Gd':4}\n",
    "mapping3 = {np.nan:0, 'IR3':1, 'IR2':2, 'IR1':3, 'Reg':4}\n",
    "mapping4 = {np.nan:0, 'Lvl':1, 'Bnk':2, 'HLS':3, 'Low':4}\n",
    "mapping5 = {np.nan:0, 'ELO':1, 'NoSeWa':2, 'NoSewr':3, 'AllPub':4}\n",
    "mapping6 = {'Sev':1, 'Mod':2, 'Gtl':3}\n",
    "#mapping7 = {np.nan:0, '1Story':1, '1.5Unf':2, '1.5Fin':3, '2Story':4, '2.5Unf':5, '2.5Fin':6,\n",
    "#           'SFoyer':7, 'SLvl':8}\n",
    "mapping8 = {np.nan:0, 'Unf':1, 'LwQ':2, 'Rec':3, 'BLQ':4, 'ALQ':5, 'GLQ':6}\n",
    "mapping9 = {np.nan:0, 'Sal':1, 'Sev':2, 'Maj2':3, 'Maj1':4, 'Mod':5, 'Min2':6,\n",
    "            'Min1':7, 'Typ':8}\n",
    "mapping10 = {np.nan:0, 'Unf':1, 'RFn':2, 'Fin':3}\n",
    "mapping11 = {np.nan:0, 'MnWw':1, 'GdWo':2, 'MnPrv':3, 'GdPrv':4}"
   ]
  },
  {
   "cell_type": "code",
   "execution_count": 68,
   "metadata": {},
   "outputs": [],
   "source": [
    "# Map ordinals\n",
    "clean_df['LotShape'] = [mapping3[val] for val in raw_df['LotShape']]\n",
    "clean_df['LandContour'] = [mapping4[val] for val in raw_df['LandContour']]\n",
    "clean_df['Utilities'] = [mapping5[val] for val in raw_df['Utilities']]\n",
    "clean_df['BsmtExposure'] = [mapping2[val] for val in raw_df['BsmtExposure']]\n",
    "clean_df['Functional'] = [mapping9[val] for val in raw_df['Functional']]\n",
    "clean_df['GarageFinish'] = [mapping10[val] for val in raw_df['GarageFinish']]\n",
    "clean_df['Fence'] = [mapping11[val] for val in raw_df['Fence']]\n",
    "clean_df['LandSlope'] = [mapping6[val] for val in raw_df['LandSlope']]\n",
    "#clean_df['HouseStyle'] = [mapping7[val] for val in raw_df['HouseStyle']]\n",
    "\n",
    "tmpCol = ['ExterQual', 'BsmtQual', 'BsmtCond', 'ExterCond', 'BsmtQual', 'BsmtCond',\n",
    "         'HeatingQC', 'KitchenQual', 'FireplaceQu', 'GarageQual', 'GarageCond',\n",
    "         'PoolQC']\n",
    "for col in tmpCol :\n",
    "    try:\n",
    "        clean_df[col] = [mapping1[val] for val in raw_df[col]]\n",
    "    except:\n",
    "        print(col)\n",
    "\n",
    "tmpCol = ['BsmtFinType1', 'BsmtFinType2']\n",
    "for col in tmpCol :\n",
    "    clean_df[col] = [mapping8[val] for val in raw_df[col]]"
   ]
  },
  {
   "cell_type": "code",
   "execution_count": 69,
   "metadata": {},
   "outputs": [],
   "source": [
    "# Fill missing values in Lot Frontage\n",
    "\n",
    "dict_neigh = raw_df.groupby(by = 'Neighborhood').agg({'LotFrontage':'median'}).to_dict()\n",
    "clean_df.loc[clean_df['LotFrontage'].isna(),  'LotFrontage'] = \\\n",
    "            list(map(lambda n : dict_neigh['LotFrontage'][n], \\\n",
    "            raw_df.loc[raw_df['LotFrontage'].isna()]['Neighborhood']))"
   ]
  },
  {
   "cell_type": "code",
   "execution_count": 70,
   "metadata": {},
   "outputs": [],
   "source": [
    "# Drop quasi-empty columns\n",
    "clean_df = clean_df.drop(columns = ['PoolQC', 'MiscFeature', 'Alley'])"
   ]
  },
  {
   "cell_type": "code",
   "execution_count": 71,
   "metadata": {},
   "outputs": [],
   "source": [
    "# MasVrnArea is na when MasVnrType is also NA.  \n",
    "# Probably best to zero the float and 'None' the string\n",
    "clean_df.loc[clean_df['MasVnrArea'].isna(), 'MasVnrArea'] = 0\n",
    "clean_df.loc[clean_df['MasVnrType'].isna(), 'MasVnrType'] = 'None'"
   ]
  },
  {
   "cell_type": "code",
   "execution_count": 72,
   "metadata": {},
   "outputs": [],
   "source": [
    "# There's only one missing value in Electrical\n",
    "# Let's replace that with the modal value\n",
    "clean_df.loc[clean_df['Electrical'].isna(), 'Electrical'] = 'SBrkr'"
   ]
  },
  {
   "cell_type": "code",
   "execution_count": 73,
   "metadata": {},
   "outputs": [],
   "source": [
    "# GarageYrBlt has NA when GarageType = 'NA'.  Let's make the nominal variable 'none'\n",
    "clean_df.loc[clean_df['GarageType'].isna(), 'GarageType'] = 'None'\n",
    "# For the ordinal, we could encode that as 0 but this will lead to a wide data range \n",
    "# (0s and 1985 for example). I think it might be better to define it as equal to \n",
    "# house built date to avoid this\n",
    "clean_df.loc[clean_df['GarageYrBlt'].isna(), 'GarageYrBlt'] = \\\n",
    "            clean_df.loc[clean_df['GarageYrBlt'].isna(), 'YearBuilt']"
   ]
  },
  {
   "cell_type": "code",
   "execution_count": 74,
   "metadata": {},
   "outputs": [
    {
     "data": {
      "text/plain": [
       "Index(['MSZoning', 'Exterior1st', 'Exterior2nd', 'BsmtFinSF1', 'BsmtFinSF2',\n",
       "       'BsmtUnfSF', 'TotalBsmtSF', 'BsmtFullBath', 'BsmtHalfBath',\n",
       "       'GarageCars', 'GarageArea', 'SaleType'],\n",
       "      dtype='object')"
      ]
     },
     "execution_count": 74,
     "metadata": {},
     "output_type": "execute_result"
    }
   ],
   "source": [
    "miss_cols = clean_df.columns[clean_df.isna().any()]\n",
    "miss_cols"
   ]
  },
  {
   "cell_type": "code",
   "execution_count": 75,
   "metadata": {},
   "outputs": [
    {
     "name": "stdout",
     "output_type": "stream",
     "text": [
      "MSZoning: Missing 4, modal value RL\n",
      "Exterior1st: Missing 1, modal value VinylSd\n",
      "Exterior2nd: Missing 1, modal value VinylSd\n",
      "BsmtFinSF1: Missing 1, modal value 0.0\n",
      "BsmtFinSF2: Missing 1, modal value 0.0\n",
      "BsmtUnfSF: Missing 1, modal value 0.0\n",
      "TotalBsmtSF: Missing 1, modal value 0.0\n",
      "BsmtFullBath: Missing 2, modal value 0.0\n",
      "BsmtHalfBath: Missing 2, modal value 0.0\n",
      "GarageCars: Missing 1, modal value 2.0\n",
      "GarageArea: Missing 1, modal value 0.0\n",
      "SaleType: Missing 1, modal value WD\n"
     ]
    }
   ],
   "source": [
    "# Clean up any stragglers (needed for the test set) by inserting modal values\n",
    "for col in miss_cols:\n",
    "    miss_rows = clean_df[col].isna()\n",
    "    mode = clean_df.loc[miss_rows==False, col].value_counts().index[0]\n",
    "    print('{0}: Missing {1}, modal value {2}'.format(col, miss_rows.sum(), mode))\n",
    "    clean_df.loc[miss_rows, col] = mode"
   ]
  },
  {
   "cell_type": "code",
   "execution_count": 76,
   "metadata": {},
   "outputs": [],
   "source": [
    "clean_df.to_csv(f'./{data}_cleaned.csv', index=False)"
   ]
  }
 ],
 "metadata": {
  "kernelspec": {
   "display_name": "Python 3",
   "language": "python",
   "name": "python3"
  },
  "language_info": {
   "codemirror_mode": {
    "name": "ipython",
    "version": 3
   },
   "file_extension": ".py",
   "mimetype": "text/x-python",
   "name": "python",
   "nbconvert_exporter": "python",
   "pygments_lexer": "ipython3",
   "version": "3.8.2"
  }
 },
 "nbformat": 4,
 "nbformat_minor": 4
}
