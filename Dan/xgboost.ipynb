{
 "cells": [
  {
   "cell_type": "code",
   "execution_count": 66,
   "metadata": {},
   "outputs": [],
   "source": [
    "import xgboost as xgb\n",
    "from sklearn.model_selection import KFold\n",
    "import pandas as pd\n",
    "import matplotlib.pyplot as plt\n",
    "import numpy as np"
   ]
  },
  {
   "cell_type": "code",
   "execution_count": 117,
   "metadata": {},
   "outputs": [],
   "source": [
    "d = 'train'\n",
    "data = pd.read_csv(f'../derivedData/{d}_cleaned.csv')\n",
    "\n",
    "X = data.iloc[:, :-1]\n",
    "y = data.iloc[:, -1]"
   ]
  },
  {
   "cell_type": "markdown",
   "metadata": {},
   "source": [
    "## XGB-Boost"
   ]
  },
  {
   "cell_type": "code",
   "execution_count": 134,
   "metadata": {},
   "outputs": [
    {
     "name": "stdout",
     "output_type": "stream",
     "text": [
      "Train score is 0.9473906210242141\n",
      "Test score is 0.9473662254142166\n"
     ]
    }
   ],
   "source": [
    "kf = KFold(n_splits=4, shuffle=True)\n",
    "\n",
    "xgb_model = xgb.XGBRFRegressor(random_state=10)\n",
    "\n",
    "# Simulation of nb_forest independent xgb random forests\n",
    "nb_forest = 5\n",
    "\n",
    "lambda_range = np.linspace(1e-3, 30, 10)\n",
    "\n",
    "lambda_train_score = []\n",
    "lambda_test_score = []\n",
    "\n",
    "for lambda_ in lambda_range:\n",
    "    # Model score\n",
    "    train_score = 0\n",
    "    test_score = 0\n",
    "    \n",
    "    for _ in range(0,nb_forest):\n",
    "\n",
    "        # Reg_lambda is the L2 regularization\n",
    "        xgb_model.set_params(reg_lambda = lambda_)\n",
    "\n",
    "        # scores per random forest\n",
    "        train_score_rf = 0\n",
    "        test_score_rf = 0\n",
    "\n",
    "        for train_index, test_index in kf.split(X, y) :\n",
    "            xgb_model.fit(X.iloc[train_index,:], y[train_index])\n",
    "            train_score_rf = train_score_rf + xgb_model.score(X.iloc[train_index,:], y[train_index])\n",
    "            test_score_rf = test_score_rf + xgb_model.score(X.iloc[test_index,:], y[test_index])\n",
    "        train_score_rf = train_score_rf/kf.n_splits\n",
    "        test_score_rf = test_score_rf/kf.n_splits\n",
    "\n",
    "        # Averaging accuracy of each RF\n",
    "        train_score = train_score + train_score_rf\n",
    "        test_score = test_score + test_score_rf\n",
    "    \n",
    "    \n",
    "    # Average accuracy of the model\n",
    "    train_score = train_score/nb_forest\n",
    "    test_score = test_score/nb_forest\n",
    "    \n",
    "    # Storing score per lambda\n",
    "    lambda_train_score.append(train_score_rf)\n",
    "    lambda_test_score.append(test_score_rf)"
   ]
  },
  {
   "cell_type": "code",
   "execution_count": 135,
   "metadata": {},
   "outputs": [
    {
     "data": {
      "text/plain": [
       "[<matplotlib.lines.Line2D at 0x7f30411c2f90>]"
      ]
     },
     "execution_count": 135,
     "metadata": {},
     "output_type": "execute_result"
    },
    {
     "data": {
      "image/png": "[encoded data removed]",
      "text/plain": [
       "<Figure size 432x288 with 1 Axes>"
      ]
     },
     "metadata": {
      "needs_background": "light"
     },
     "output_type": "display_data"
    }
   ],
   "source": [
    "plt.plot(lambda_range, lambda_train_score)\n",
    "plt.plot(lambda_range, lambda_test_score)"
   ]
  },
  {
   "cell_type": "markdown",
   "metadata": {},
   "source": [
    "Setting reg_lambda to 10 should reduce overfitting"
   ]
  },
  {
   "cell_type": "code",
   "execution_count": 137,
   "metadata": {},
   "outputs": [
    {
     "name": "stdout",
     "output_type": "stream",
     "text": [
      "Train score is 0.9711668470774543\n",
      "Test score is 0.9696101792694369\n"
     ]
    }
   ],
   "source": [
    "# Model score\n",
    "train_score = 0\n",
    "test_score = 0\n",
    "\n",
    "for _ in range(0,nb_forest):\n",
    "\n",
    "    # Reg_lambda is the L2 regularization\n",
    "    xgb_model.set_params(reg_lambda = 10)\n",
    "\n",
    "    # scores per random forest\n",
    "    train_score_rf = 0\n",
    "    test_score_rf = 0\n",
    "\n",
    "    for train_index, test_index in kf.split(X, y) :\n",
    "        xgb_model.fit(X.iloc[train_index,:], y[train_index])\n",
    "        train_score_rf = train_score_rf + xgb_model.score(X.iloc[train_index,:], y[train_index])\n",
    "        test_score_rf = test_score_rf + xgb_model.score(X.iloc[test_index,:], y[test_index])\n",
    "    train_score_rf = train_score_rf/kf.n_splits\n",
    "    test_score_rf = test_score_rf/kf.n_splits\n",
    "\n",
    "    # Averaging accuracy of each RF\n",
    "    train_score = train_score + train_score_rf\n",
    "    test_score = test_score + test_score_rf\n",
    "\n",
    "\n",
    "# Average accuracy of the model\n",
    "train_score = train_score/nb_forest\n",
    "test_score = test_score/nb_forest\n",
    "\n",
    "print(f'Train score is {train_score}')\n",
    "print(f'Test score is {test_score}')"
   ]
  }
 ],
 "metadata": {
  "kernelspec": {
   "display_name": "Python 3",
   "language": "python",
   "name": "python3"
  },
  "language_info": {
   "codemirror_mode": {
    "name": "ipython",
    "version": 3
   },
   "file_extension": ".py",
   "mimetype": "text/x-python",
   "name": "python",
   "nbconvert_exporter": "python",
   "pygments_lexer": "ipython3",
   "version": "3.7.4"
  }
 },
 "nbformat": 4,
 "nbformat_minor": 4
}
