{
 "cells": [
  {
   "cell_type": "code",
   "execution_count": 55,
   "metadata": {},
   "outputs": [],
   "source": [
    "import pandas as pd\n",
    "import numpy as np"
   ]
  },
  {
   "cell_type": "code",
   "execution_count": 87,
   "metadata": {},
   "outputs": [],
   "source": [
    "# Import raw data\n",
    "data = 'train'\n",
    "raw_df = pd.read_csv('../data/' + data + '.csv') "
   ]
  },
  {
   "cell_type": "code",
   "execution_count": 77,
   "metadata": {},
   "outputs": [],
   "source": [
    "# All columns that contains at least 1 NA\n",
    "col_na = ['PoolQC', 'MiscFeature', 'Alley', 'Fence', 'FireplaceQu', 'LotFrontage',\n",
    "           'GarageQual', 'GarageFinish', 'GarageYrBlt', 'GarageType', 'GarageCond',\n",
    "           'BsmtExposure', 'BsmtFinType2', 'BsmtQual', 'BsmtCond', 'BsmtFinType1',\n",
    "           'MasVnrArea', 'MasVnrType', 'Electrical']"
   ]
  },
  {
   "cell_type": "markdown",
   "metadata": {},
   "source": [
    "# Formatting"
   ]
  },
  {
   "cell_type": "markdown",
   "metadata": {},
   "source": [
    "- Continuous features remains unchanged\n",
    "- Ordinal categorical features has int labels\n",
    "- Non ordinal categorical features are dummified"
   ]
  },
  {
   "cell_type": "code",
   "execution_count": 80,
   "metadata": {},
   "outputs": [],
   "source": [
    "contin = ['LotFrontage', 'LotArea', 'MasVnrArea', 'BsmtFinSF1',\n",
    "        'BsmtFinSF2', 'BsmtUnfSF', 'TotalBsmtSF', '1stFlrSF',\n",
    "        '2ndFlrSF', 'LowQualFinSF', 'GrLivArea', 'GarageArea',\n",
    "        'WoodDeckSF', 'OpenPorchSF', 'EnclosedPorch', '3SsnPorch',\n",
    "        'ScreenPorch', 'PoolArea', 'MiscVal']\n",
    "\n",
    "ord_cat = ['LotShape', 'LandContour', 'Utilities', 'LandSlope', 'HouseStyle',\n",
    "           'OverallQual', 'OverallCond', 'YearBuilt', 'YearRemodAdd',\n",
    "           'ExterQual', 'ExterCond', 'BsmtQual', 'BsmtCond', 'BsmtExposure', \n",
    "           'BsmtFinType1', 'BsmtFinType2', 'HeatingQC', 'BsmtFullBath',\n",
    "           'BsmtHalfBath', 'FullBath', 'HalfBath', 'BedroomAbvGr', 'KitchenAbvGr',\n",
    "           'KitchenQual', 'TotRmsAbvGrd', 'Functional', 'Fireplaces', 'FireplaceQu',\n",
    "           'GarageYrBlt', 'GarageFinish', 'GarageCars', 'GarageQual',\n",
    "           'GarageCond', 'PoolQC', 'Fence', 'MoSold', 'YrSold']\n",
    "\n",
    "cat = ['MSSubClass', 'MSZoning', 'Street', 'Alley', 'LotConfig', 'Neighborhood',\n",
    "      'Condition1', 'Condition2', 'BldgType', 'RoofStyle', 'RoofMatl',\n",
    "      'Exterior1st', 'Exterior2nd', 'MasVnrType', 'Foundation', 'Heating', \n",
    "      'CentralAir', 'Electrical', 'GarageType', 'PavedDrive', 'MiscFeature',\n",
    "      'SaleType', 'SaleCondition']"
   ]
  },
  {
   "cell_type": "markdown",
   "metadata": {},
   "source": [
    "## Ordinal categorical"
   ]
  },
  {
   "cell_type": "code",
   "execution_count": 172,
   "metadata": {},
   "outputs": [],
   "source": [
    "mapping1 = {np.nan:0, 'Po':1, 'Fa':2, 'TA':3, 'Gd':4, 'Ex':5}\n",
    "mapping2 = {np.nan:0, 'No':1, 'Mn':2, 'Av':3, 'Gd':4}\n",
    "mapping3 = {'IR3':1, 'IR2':2, 'IR1':3, 'Reg':4}\n",
    "mapping4 = {'Lvl':1, 'Bnk':2, 'HLS':3, 'Low':4}\n",
    "mapping5 = {'ELO':1, 'NoSeWa':2, 'NoSewr':3, 'AllPub':4}\n",
    "mapping6 = {'Gtl':1, 'Mod':2, 'Sev':3}\n",
    "mapping7 = {'1Story':1, '1.5Unf':2, '1.5Fin':3, '2Story':4, '2.5Unf':5, '2.5Fin':6,\n",
    "           'SFoyer':7, 'SLvl':8}\n",
    "mapping8 = {np.nan:0, 'Unf':1, 'LwQ':2, 'Rec':3, 'BLQ':4, 'ALQ':5, 'GLQ':6}\n",
    "mapping9 = {'Typ':0, 'Min1':1, 'Min2':2, 'Mod':3, 'Maj1':4, 'Maj2':5,\n",
    "            'Sev':6, 'Sal':7}\n",
    "mapping10 = {np.nan:0, 'Unf':1, 'RFn':2, 'Fin':3}\n",
    "mapping11 = {np.nan:0, 'MnWw':1, 'GdWo':2, 'MnPrv':3, 'GdPrv':4}"
   ]
  },
  {
   "cell_type": "code",
   "execution_count": 194,
   "metadata": {},
   "outputs": [],
   "source": [
    "raw_df = pd.read_csv('../data/' + data + '.csv') "
   ]
  },
  {
   "cell_type": "code",
   "execution_count": 195,
   "metadata": {},
   "outputs": [
    {
     "name": "stdout",
     "output_type": "stream",
     "text": [
      "BsmtQual\n",
      "BsmtCond\n"
     ]
    }
   ],
   "source": [
    "raw_df['LotShape'] = [mapping3[val] for val in raw_df['LotShape']]\n",
    "raw_df['LandContour'] = [mapping4[val] for val in raw_df['LandContour']]\n",
    "raw_df['Utilities'] = [mapping5[val] for val in raw_df['Utilities']]\n",
    "raw_df['BsmtExposure'] = [mapping2[val] for val in raw_df['BsmtExposure']]\n",
    "raw_df['Functional'] = [mapping9[val] for val in raw_df['Functional']]\n",
    "raw_df['GarageFinish'] = [mapping10[val] for val in raw_df['GarageFinish']]\n",
    "raw_df['Fence'] = [mapping11[val] for val in raw_df['Fence']]\n",
    "raw_df['LandSlope'] = [mapping6[val] for val in raw_df['LandSlope']]\n",
    "raw_df['HouseStyle'] = [mapping7[val] for val in raw_df['HouseStyle']]\n",
    "\n",
    "tmpCol = ['ExterQual', 'BsmtQual', 'BsmtCond', 'ExterCond', 'BsmtQual', 'BsmtCond',\n",
    "         'HeatingQC', 'KitchenQual', 'FireplaceQu', 'GarageQual', 'GarageCond',\n",
    "         'PoolQC']\n",
    "for col in tmpCol :\n",
    "    try:\n",
    "        raw_df[col] = [mapping1[val] for val in raw_df[col]]\n",
    "    except:\n",
    "        print(col)\n",
    "\n",
    "tmpCol = ['BsmtFinType1', 'BsmtFinType2']\n",
    "for col in tmpCol :\n",
    "    raw_df[col] = [mapping8[val] for val in raw_df[col]]"
   ]
  },
  {
   "cell_type": "markdown",
   "metadata": {},
   "source": [
    "## Non ordinal categorical"
   ]
  },
  {
   "cell_type": "code",
   "execution_count": 196,
   "metadata": {},
   "outputs": [],
   "source": [
    "for col in cat :\n",
    "    tmp_dum = pd.get_dummies(raw_df[col])\n",
    "    tmp_dum.columns = [f'{col}.{lvl}' for lvl in tmp_dum.columns]\n",
    "    raw_df = pd.concat([raw_df.drop(columns = col), tmp_dum], sort = False, axis = 1)"
   ]
  },
  {
   "cell_type": "markdown",
   "metadata": {},
   "source": [
    "## Pushing in csv file"
   ]
  },
  {
   "cell_type": "code",
   "execution_count": 197,
   "metadata": {},
   "outputs": [],
   "source": [
    "raw_df.to_csv('./train_cleaned.csv', index=False)"
   ]
  },
  {
   "cell_type": "markdown",
   "metadata": {},
   "source": [
    "# Imputing NA"
   ]
  },
  {
   "cell_type": "markdown",
   "metadata": {},
   "source": [
    "# Feature selection"
   ]
  },
  {
   "cell_type": "markdown",
   "metadata": {},
   "source": [
    "## Drop of quasi empty columns"
   ]
  },
  {
   "cell_type": "code",
   "execution_count": 7,
   "metadata": {},
   "outputs": [],
   "source": [
    "raw_df = raw_df.drop(columns = ['PoolQC', 'MiscFeature', 'Alley'])"
   ]
  },
  {
   "cell_type": "markdown",
   "metadata": {},
   "source": [
    "## Drop repeated information"
   ]
  },
  {
   "cell_type": "code",
   "execution_count": 8,
   "metadata": {},
   "outputs": [
    {
     "data": {
      "text/plain": [
       "Index(['Id', 'MSSubClass', 'MSZoning', 'LotFrontage', 'LotArea', 'Street',\n",
       "       'LotShape', 'LandContour', 'Utilities', 'LotConfig', 'LandSlope',\n",
       "       'Neighborhood', 'Condition1', 'Condition2', 'BldgType', 'HouseStyle',\n",
       "       'OverallQual', 'OverallCond', 'YearBuilt', 'YearRemodAdd', 'RoofStyle',\n",
       "       'RoofMatl', 'Exterior1st', 'Exterior2nd', 'MasVnrType', 'MasVnrArea',\n",
       "       'ExterQual', 'ExterCond', 'Foundation', 'BsmtQual', 'BsmtCond',\n",
       "       'BsmtExposure', 'BsmtFinType1', 'BsmtFinSF1', 'BsmtFinType2',\n",
       "       'BsmtFinSF2', 'BsmtUnfSF', 'TotalBsmtSF', 'Heating', 'HeatingQC',\n",
       "       'CentralAir', 'Electrical', '1stFlrSF', '2ndFlrSF', 'LowQualFinSF',\n",
       "       'GrLivArea', 'BsmtFullBath', 'BsmtHalfBath', 'FullBath', 'HalfBath',\n",
       "       'BedroomAbvGr', 'KitchenAbvGr', 'KitchenQual', 'TotRmsAbvGrd',\n",
       "       'Functional', 'Fireplaces', 'FireplaceQu', 'GarageType', 'GarageYrBlt',\n",
       "       'GarageFinish', 'GarageCars', 'GarageArea', 'GarageQual', 'GarageCond',\n",
       "       'PavedDrive', 'WoodDeckSF', 'OpenPorchSF', 'EnclosedPorch', '3SsnPorch',\n",
       "       'ScreenPorch', 'PoolArea', 'Fence', 'MiscVal', 'MoSold', 'YrSold',\n",
       "       'SaleType', 'SaleCondition', 'SalePrice'],\n",
       "      dtype='object')"
      ]
     },
     "execution_count": 8,
     "metadata": {},
     "output_type": "execute_result"
    }
   ],
   "source": [
    "raw_df.columns"
   ]
  }
 ],
 "metadata": {
  "kernelspec": {
   "display_name": "Python 3",
   "language": "python",
   "name": "python3"
  },
  "language_info": {
   "codemirror_mode": {
    "name": "ipython",
    "version": 3
   },
   "file_extension": ".py",
   "mimetype": "text/x-python",
   "name": "python",
   "nbconvert_exporter": "python",
   "pygments_lexer": "ipython3",
   "version": "3.7.4"
  }
 },
 "nbformat": 4,
 "nbformat_minor": 4
}
