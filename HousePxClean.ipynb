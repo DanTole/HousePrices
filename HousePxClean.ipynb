{
 "cells": [
  {
   "cell_type": "code",
   "execution_count": 2,
   "metadata": {},
   "outputs": [],
   "source": [
    "import pandas as pd\n",
    "house = pd.read_csv('./train.csv')"
   ]
  },
  {
   "cell_type": "code",
   "execution_count": 4,
   "metadata": {},
   "outputs": [],
   "source": [
    "# The data description identifies the following features as using NA to represent none\n",
    "has_na =  ['Alley', 'BsmtQual', 'BsmtCond', 'BsmtExposure', \n",
    "         'BsmtFinType1', 'BsmtFinType2', 'FireplaceQu', 'GarageType', \n",
    "         'GarageFinish', 'GarageQual', 'GarageCond', 'PoolQC', \n",
    "         'Fence', 'MiscFeature']\n",
    "# These are all categorical with string values.  Let's replace with 'None'\n",
    "for col in has_na:\n",
    "    house.loc[house[col].isna(), col] = 'None'"
   ]
  },
  {
   "cell_type": "code",
   "execution_count": 7,
   "metadata": {},
   "outputs": [
    {
     "data": {
      "text/plain": [
       "Index(['LotFrontage', 'MasVnrType', 'MasVnrArea', 'Electrical', 'GarageYrBlt'], dtype='object')"
      ]
     },
     "execution_count": 7,
     "metadata": {},
     "output_type": "execute_result"
    }
   ],
   "source": [
    "house.columns[house.isna().any()]"
   ]
  },
  {
   "cell_type": "code",
   "execution_count": 8,
   "metadata": {},
   "outputs": [],
   "source": [
    "# Lot Frontage\n",
    "# It's likely that LotFrontage is NaN when there is none.  \n",
    "# The R dataset has a comparable proportion of zeros and no Nans\n",
    "house.loc[house['LotFrontage'].isna(), 'LotFrontage'] = 0"
   ]
  },
  {
   "cell_type": "code",
   "execution_count": 14,
   "metadata": {},
   "outputs": [],
   "source": [
    "# MasVrnArea is na when MasVnrType is also NA.  Probably best to zero the float and 'None' the string\n",
    "house.loc[house['MasVnrArea'].isna(), 'MasVnrArea'] = 0\n",
    "house.loc[house['MasVnrType'].isna(), 'MasVnrType'] = 'None'"
   ]
  },
  {
   "cell_type": "code",
   "execution_count": 19,
   "metadata": {},
   "outputs": [],
   "source": [
    "# There's only one missing value in Electrical\n",
    "house['Electrical'].value_counts()\n",
    "# Let's replace that with the modal value\n",
    "house.loc[house['Electrical'].isna(), 'Electrical'] = 'SBrkr'"
   ]
  },
  {
   "cell_type": "code",
   "execution_count": 23,
   "metadata": {},
   "outputs": [],
   "source": [
    "# GarageYrBlt has NA when GarageType = 'None'\n",
    "house.loc[house['GarageYrBlt'].isna(), 'GarageType'].value_counts()\n",
    "# We could encode that as 0 but this will lead to a wide data range (0s and 1985 for example)\n",
    "# I think it might be better to define it as equal to house built date to avoid this\n",
    "house.loc[house['GarageYrBlt'].isna(), 'GarageYrBlt'] = house.loc[house['GarageYrBlt'].isna(), 'YearBuilt']"
   ]
  },
  {
   "cell_type": "code",
   "execution_count": 27,
   "metadata": {},
   "outputs": [
    {
     "data": {
      "text/plain": [
       "Index([], dtype='object')"
      ]
     },
     "execution_count": 27,
     "metadata": {},
     "output_type": "execute_result"
    }
   ],
   "source": [
    "house.columns[house.isna().any()]"
   ]
  },
  {
   "cell_type": "code",
   "execution_count": null,
   "metadata": {},
   "outputs": [],
   "source": [
    "house.write_csv('./train_cleaned.csv')"
   ]
  }
 ],
 "metadata": {
  "kernelspec": {
   "display_name": "Python 3",
   "language": "python",
   "name": "python3"
  },
  "language_info": {
   "codemirror_mode": {
    "name": "ipython",
    "version": 3
   },
   "file_extension": ".py",
   "mimetype": "text/x-python",
   "name": "python",
   "nbconvert_exporter": "python",
   "pygments_lexer": "ipython3",
   "version": "3.8.2"
  }
 },
 "nbformat": 4,
 "nbformat_minor": 4
}
