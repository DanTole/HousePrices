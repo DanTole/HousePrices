{
 "cells": [
  {
   "cell_type": "code",
   "execution_count": 10,
   "metadata": {},
   "outputs": [
    {
     "ename": "ModuleNotFoundError",
     "evalue": "No module named 'HousePrices'",
     "output_type": "error",
     "traceback": [
      "\u001b[0;31m---------------------------------------------------------------------------\u001b[0m",
      "\u001b[0;31mModuleNotFoundError\u001b[0m                       Traceback (most recent call last)",
      "\u001b[0;32m<ipython-input-10-793b10321fdb>\u001b[0m in \u001b[0;36m<module>\u001b[0;34m\u001b[0m\n\u001b[0;32m----> 1\u001b[0;31m \u001b[0;32mimport\u001b[0m \u001b[0mxgboost\u001b[0m \u001b[0;32mas\u001b[0m \u001b[0mxgb\u001b[0m\u001b[0;34m\u001b[0m\u001b[0;34m\u001b[0m\u001b[0m\n\u001b[0m\u001b[1;32m      2\u001b[0m \u001b[0;32mfrom\u001b[0m \u001b[0msklearn\u001b[0m\u001b[0;34m.\u001b[0m\u001b[0mmodel_selection\u001b[0m \u001b[0;32mimport\u001b[0m \u001b[0mKFold\u001b[0m\u001b[0;34m\u001b[0m\u001b[0;34m\u001b[0m\u001b[0m\n\u001b[1;32m      3\u001b[0m \u001b[0;32mimport\u001b[0m \u001b[0mpandas\u001b[0m \u001b[0;32mas\u001b[0m \u001b[0mpd\u001b[0m\u001b[0;34m\u001b[0m\u001b[0;34m\u001b[0m\u001b[0m\n\u001b[1;32m      4\u001b[0m \u001b[0;32mimport\u001b[0m \u001b[0mmatplotlib\u001b[0m\u001b[0;34m.\u001b[0m\u001b[0mpyplot\u001b[0m \u001b[0;32mas\u001b[0m \u001b[0mplt\u001b[0m\u001b[0;34m\u001b[0m\u001b[0;34m\u001b[0m\u001b[0m\n\u001b[1;32m      5\u001b[0m \u001b[0;32mimport\u001b[0m \u001b[0mnumpy\u001b[0m \u001b[0;32mas\u001b[0m \u001b[0mnp\u001b[0m\u001b[0;34m\u001b[0m\u001b[0;34m\u001b[0m\u001b[0m\n",
      "\u001b[0;32m~/Desktop/HousePrices/Dan/xgboost.py\u001b[0m in \u001b[0;36m<module>\u001b[0;34m\u001b[0m\n\u001b[1;32m      7\u001b[0m \u001b[0;32mimport\u001b[0m \u001b[0mtime\u001b[0m\u001b[0;34m\u001b[0m\u001b[0;34m\u001b[0m\u001b[0m\n\u001b[1;32m      8\u001b[0m \u001b[0;34m\u001b[0m\u001b[0m\n\u001b[0;32m----> 9\u001b[0;31m \u001b[0;32mfrom\u001b[0m \u001b[0mHousePrices\u001b[0m\u001b[0;34m.\u001b[0m\u001b[0mDan\u001b[0m\u001b[0;34m.\u001b[0m\u001b[0mModelScore\u001b[0m \u001b[0;32mimport\u001b[0m \u001b[0mmodel_score\u001b[0m\u001b[0;34m\u001b[0m\u001b[0;34m\u001b[0m\u001b[0m\n\u001b[0m\u001b[1;32m     10\u001b[0m \u001b[0;34m\u001b[0m\u001b[0m\n\u001b[1;32m     11\u001b[0m \u001b[0mlogprice\u001b[0m \u001b[0;34m=\u001b[0m \u001b[0;32mTrue\u001b[0m\u001b[0;34m\u001b[0m\u001b[0;34m\u001b[0m\u001b[0m\n",
      "\u001b[0;31mModuleNotFoundError\u001b[0m: No module named 'HousePrices'"
     ]
    }
   ],
   "source": [
    "import xgboost as xgb\n",
    "from sklearn.model_selection import KFold\n",
    "import pandas as pd\n",
    "import matplotlib.pyplot as plt\n",
    "import numpy as np"
   ]
  },
  {
   "cell_type": "code",
   "execution_count": 388,
   "metadata": {},
   "outputs": [],
   "source": [
    "d = 'train'\n",
    "data = pd.read_csv(f'../derivedData/{d}_cleaned.csv')\n",
    "\n",
    "data['logSalePrice'] = np.log(data['SalePrice'])\n",
    "\n",
    "X = data_train.iloc[:, :-1]\n",
    "\n",
    "X = X.loc[:,X.columns != 'SalePrice']\n",
    "\n",
    "# SalePrice\n",
    "y = data_train['SalePrice']\n",
    "\n",
    "# log SalePrice\n",
    "y = data.iloc[:, -1]"
   ]
  },
  {
   "cell_type": "markdown",
   "metadata": {},
   "source": [
    "## XGBoost"
   ]
  },
  {
   "cell_type": "code",
   "execution_count": 425,
   "metadata": {},
   "outputs": [],
   "source": [
    "kf = KFold(n_splits=4, shuffle=True)\n",
    "\n",
    "xgb_model = xgb.XGBRegressor(random_state=10, colsample_bytree=0.5,\n",
    "                            gamma=0.05, learning_rate=0.05,\n",
    "                            max_depth=2, n_estimators=500)\n",
    "\n",
    "# xgb_model = xgb.XGBRegressor(colsample_bytree=0.4603, gamma=0.0468, \n",
    "#                              learning_rate=0.05, max_depth=3, \n",
    "#                              min_child_weight=1.7817, n_estimators=2200,\n",
    "#                              reg_alpha=0.4640, reg_lambda=0.8571,\n",
    "#                              subsample=0.5213, silent=1,\n",
    "#                              random_state =7, nthread = -1)\n",
    "\n",
    "reg_range = np.linspace(0, 10, 20)\n",
    "\n",
    "reg_train_score = []\n",
    "reg_test_score = []\n",
    "\n",
    "for reg_ in reg_range:\n",
    "    # Model score\n",
    "    train_score = 0\n",
    "    test_score = 0\n",
    "\n",
    "    # Reg_lambda is the L2 regularization\n",
    "    xgb_model.set_params(reg_alpha = reg_)\n",
    "\n",
    "    train_score = 0\n",
    "    test_score = 0\n",
    "\n",
    "    for train_index, test_index in kf.split(X, y) :\n",
    "        xgb_model.fit(X.iloc[train_index,:], y[train_index])\n",
    "        train_score = train_score + xgb_model.score(X.iloc[train_index,:], y[train_index])\n",
    "        test_score = test_score + xgb_model.score(X.iloc[test_index,:], y[test_index])\n",
    "        \n",
    "    train_score = train_score/kf.n_splits\n",
    "    test_score = test_score/kf.n_splits\n",
    "    \n",
    "    # Storing score per reg\n",
    "    reg_train_score.append(train_score)\n",
    "    reg_test_score.append(test_score)"
   ]
  },
  {
   "cell_type": "code",
   "execution_count": 426,
   "metadata": {},
   "outputs": [
    {
     "data": {
      "text/plain": [
       "<matplotlib.legend.Legend at 0x7f30299ad150>"
      ]
     },
     "execution_count": 426,
     "metadata": {},
     "output_type": "execute_result"
    },
    {
     "data": {
      "image/png": "[encoded data removed]",
      "text/plain": [
       "<Figure size 432x288 with 1 Axes>"
      ]
     },
     "metadata": {
      "needs_background": "light"
     },
     "output_type": "display_data"
    }
   ],
   "source": [
    "plt.plot(reg_range, reg_train_score, label='train')\n",
    "plt.plot(reg_range, reg_test_score, label='test')\n",
    "plt.legend(loc=1)"
   ]
  },
  {
   "cell_type": "code",
   "execution_count": 396,
   "metadata": {},
   "outputs": [
    {
     "name": "stdout",
     "output_type": "stream",
     "text": [
      "[19:52:56] WARNING: /home/dantole/xgboost/python-package/build/temp.linux-x86_64-3.7/xgboost/src/learner.cc:485: \n",
      "Parameters: { silent } might not be used.\n",
      "\n",
      "  This may not be accurate due to some parameters are only used in language bindings but\n",
      "  passed down to XGBoost core.  Or some parameters are not used but slip through this\n",
      "  verification. Please open an issue if you find above cases.\n",
      "\n",
      "\n",
      "[19:53:35] WARNING: /home/dantole/xgboost/python-package/build/temp.linux-x86_64-3.7/xgboost/src/learner.cc:485: \n",
      "Parameters: { silent } might not be used.\n",
      "\n",
      "  This may not be accurate due to some parameters are only used in language bindings but\n",
      "  passed down to XGBoost core.  Or some parameters are not used but slip through this\n",
      "  verification. Please open an issue if you find above cases.\n",
      "\n",
      "\n",
      "[19:54:18] WARNING: /home/dantole/xgboost/python-package/build/temp.linux-x86_64-3.7/xgboost/src/learner.cc:485: \n",
      "Parameters: { silent } might not be used.\n",
      "\n",
      "  This may not be accurate due to some parameters are only used in language bindings but\n",
      "  passed down to XGBoost core.  Or some parameters are not used but slip through this\n",
      "  verification. Please open an issue if you find above cases.\n",
      "\n",
      "\n",
      "[19:55:01] WARNING: /home/dantole/xgboost/python-package/build/temp.linux-x86_64-3.7/xgboost/src/learner.cc:485: \n",
      "Parameters: { silent } might not be used.\n",
      "\n",
      "  This may not be accurate due to some parameters are only used in language bindings but\n",
      "  passed down to XGBoost core.  Or some parameters are not used but slip through this\n",
      "  verification. Please open an issue if you find above cases.\n",
      "\n",
      "\n",
      "Train score is 0.9600224350444191\n",
      "Test score is 0.901657342353356\n"
     ]
    }
   ],
   "source": [
    "# Model score\n",
    "train_score = 0\n",
    "test_score = 0\n",
    "\n",
    "# Reg_lambda is the L2 regularization\n",
    "# xgb_model.set_params(reg_lambda = 1000)\n",
    "\n",
    "xgb_model = xgb.XGBRegressor(colsample_bytree=0.4603, gamma=0.0468, \n",
    "                             learning_rate=0.05, max_depth=3, \n",
    "                             min_child_weight=1.7817, n_estimators=2200,\n",
    "                             reg_alpha=0.4640, reg_lambda=0.8571,\n",
    "                             subsample=0.5213, silent=1,\n",
    "                             random_state =7, nthread = -1)\n",
    "\n",
    "for train_index, test_index in kf.split(X, y) :\n",
    "    xgb_model.fit(X.iloc[train_index,:], y[train_index])\n",
    "    train_score = train_score + xgb_model.score(X.iloc[train_index,:], y[train_index])\n",
    "    test_score = test_score + xgb_model.score(X.iloc[test_index,:], y[test_index])\n",
    "\n",
    "train_score = train_score/kf.n_splits\n",
    "test_score = test_score/kf.n_splits\n",
    "\n",
    "print(f'Train score is {train_score}')\n",
    "print(f'Test score is {test_score}')"
   ]
  },
  {
   "cell_type": "code",
   "execution_count": 16,
   "metadata": {},
   "outputs": [
    {
     "ename": "ModuleNotFoundError",
     "evalue": "No module named 'HousePrices'",
     "output_type": "error",
     "traceback": [
      "\u001b[0;31m---------------------------------------------------------------------------\u001b[0m",
      "\u001b[0;31mModuleNotFoundError\u001b[0m                       Traceback (most recent call last)",
      "\u001b[0;32m<ipython-input-16-43ef3a2e695d>\u001b[0m in \u001b[0;36m<module>\u001b[0;34m\u001b[0m\n\u001b[0;32m----> 1\u001b[0;31m \u001b[0;32mimport\u001b[0m \u001b[0mxgboost\u001b[0m \u001b[0;32mas\u001b[0m \u001b[0mxgb\u001b[0m\u001b[0;34m\u001b[0m\u001b[0;34m\u001b[0m\u001b[0m\n\u001b[0m\u001b[1;32m      2\u001b[0m \u001b[0;32mfrom\u001b[0m \u001b[0msklearn\u001b[0m\u001b[0;34m.\u001b[0m\u001b[0mmodel_selection\u001b[0m \u001b[0;32mimport\u001b[0m \u001b[0mKFold\u001b[0m\u001b[0;34m\u001b[0m\u001b[0;34m\u001b[0m\u001b[0m\n\u001b[1;32m      3\u001b[0m \u001b[0;32mfrom\u001b[0m \u001b[0msklearn\u001b[0m\u001b[0;34m.\u001b[0m\u001b[0mmodel_selection\u001b[0m \u001b[0;32mimport\u001b[0m \u001b[0mGridSearchCV\u001b[0m\u001b[0;34m\u001b[0m\u001b[0;34m\u001b[0m\u001b[0m\n\u001b[1;32m      4\u001b[0m \u001b[0;32mfrom\u001b[0m \u001b[0msklearn\u001b[0m\u001b[0;34m.\u001b[0m\u001b[0mmodel_selection\u001b[0m \u001b[0;32mimport\u001b[0m \u001b[0mtrain_test_split\u001b[0m\u001b[0;34m\u001b[0m\u001b[0;34m\u001b[0m\u001b[0m\n\u001b[1;32m      5\u001b[0m \u001b[0;32mimport\u001b[0m \u001b[0mpandas\u001b[0m \u001b[0;32mas\u001b[0m \u001b[0mpd\u001b[0m\u001b[0;34m\u001b[0m\u001b[0;34m\u001b[0m\u001b[0m\n",
      "\u001b[0;32m~/Desktop/HousePrices/Dan/xgboost.py\u001b[0m in \u001b[0;36m<module>\u001b[0;34m\u001b[0m\n\u001b[1;32m      7\u001b[0m \u001b[0;32mimport\u001b[0m \u001b[0mtime\u001b[0m\u001b[0;34m\u001b[0m\u001b[0;34m\u001b[0m\u001b[0m\n\u001b[1;32m      8\u001b[0m \u001b[0;34m\u001b[0m\u001b[0m\n\u001b[0;32m----> 9\u001b[0;31m \u001b[0;32mfrom\u001b[0m \u001b[0mHousePrices\u001b[0m\u001b[0;34m.\u001b[0m\u001b[0mDan\u001b[0m\u001b[0;34m.\u001b[0m\u001b[0mModelScore\u001b[0m \u001b[0;32mimport\u001b[0m \u001b[0mmodel_score\u001b[0m\u001b[0;34m\u001b[0m\u001b[0;34m\u001b[0m\u001b[0m\n\u001b[0m\u001b[1;32m     10\u001b[0m \u001b[0;34m\u001b[0m\u001b[0m\n\u001b[1;32m     11\u001b[0m \u001b[0mlogprice\u001b[0m \u001b[0;34m=\u001b[0m \u001b[0;32mTrue\u001b[0m\u001b[0;34m\u001b[0m\u001b[0;34m\u001b[0m\u001b[0m\n",
      "\u001b[0;31mModuleNotFoundError\u001b[0m: No module named 'HousePrices'"
     ]
    }
   ],
   "source": [
    "import xgboost as xgb\n",
    "from sklearn.model_selection import KFold\n",
    "from sklearn.model_selection import GridSearchCV\n",
    "from sklearn.model_selection import train_test_split\n",
    "import pandas as pd\n",
    "import numpy as np\n",
    "import time\n",
    "from ModelScore import model_score\n",
    "\n",
    "logprice = True\n",
    "\n",
    "d = 'train'\n",
    "data = pd.read_csv(f'../derivedData/{d}_cleaned.csv')\n",
    "\n",
    "data['logSalePrice'] = np.log(data['SalePrice'])\n",
    "\n",
    "X = data.iloc[:, :-1]\n",
    "\n",
    "X = X.loc[:, X.columns != 'SalePrice']\n",
    "\n",
    "if not logprice:\n",
    "    y = data['SalePrice']\n",
    "else:\n",
    "    y = data.iloc[:, -1]\n",
    "\n",
    "X_train, X_test, y_train, y_test = train_test_split(X , y, test_size=0.25, random_state=42)\n",
    "\n",
    "kf = KFold(n_splits=4, shuffle=True)\n",
    "\n",
    "xgboost = xgb.XGBRegressor(booster='gblinear')\n",
    "\n",
    "xgb_param = [\n",
    "    {'alpha': np.linspace(0, 100, 50)},\n",
    "    {'lambda': np.linspace(0, 100, 50)}\n",
    "]\n",
    "\n",
    "grid_search_xgb = GridSearchCV(xgboost, xgb_param, cv=4)\n",
    "\n",
    "start = time.time()\n",
    "for train_index, test_index in kf.split(X_train, y_train):\n",
    "    grid_search_xgb.fit(X_train.iloc[train_index, :], y_train[train_index])\n",
    "end = time.time()\n",
    "\n",
    "print(f'Time taken: {end - start}')\n",
    "print('Best parameters: ' + str(grid_search_xgb.best_params_))\n",
    "\n",
    "model_score(grid_search_xgb.best_estimator_, X_test, y_test, saves=False)\n"
   ]
  }
 ],
 "metadata": {
  "kernelspec": {
   "display_name": "Python 3",
   "language": "python",
   "name": "python3"
  },
  "language_info": {
   "codemirror_mode": {
    "name": "ipython",
    "version": 3
   },
   "file_extension": ".py",
   "mimetype": "text/x-python",
   "name": "python",
   "nbconvert_exporter": "python",
   "pygments_lexer": "ipython3",
   "version": "3.7.4"
  }
 },
 "nbformat": 4,
 "nbformat_minor": 4
}
